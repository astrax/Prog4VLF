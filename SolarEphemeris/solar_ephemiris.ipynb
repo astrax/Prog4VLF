{
 "cells": [
  {
   "cell_type": "code",
   "execution_count": 1,
   "metadata": {
    "collapsed": true
   },
   "outputs": [],
   "source": [
    "import numpy as np\n",
    "import pandas as pd"
   ]
  },
  {
   "cell_type": "code",
   "execution_count": 2,
   "metadata": {
    "collapsed": true
   },
   "outputs": [],
   "source": [
    "%matplotlib inline"
   ]
  },
  {
   "cell_type": "markdown",
   "metadata": {},
   "source": [
    "We will use data on the number of students passing a certain course in UNAM (the National University of Mexico), given in an Excel spreadsheet."
   ]
  },
  {
   "cell_type": "code",
   "execution_count": 3,
   "metadata": {
    "collapsed": false
   },
   "outputs": [],
   "source": [
    "pd.read_excel?"
   ]
  },
  {
   "cell_type": "code",
   "execution_count": 4,
   "metadata": {
    "collapsed": false
   },
   "outputs": [],
   "source": [
    "course_data = pd.read_excel(\"NOAA_Solar_Calculations_day.xls\", sheetname='Calculations',infer_datetime_format=True)"
   ]
  },
  {
   "cell_type": "code",
   "execution_count": 5,
   "metadata": {
    "collapsed": false
   },
   "outputs": [
    {
     "data": {
      "text/html": [
       "<div>\n",
       "<table border=\"1\" class=\"dataframe\">\n",
       "  <thead>\n",
       "    <tr style=\"text-align: right;\">\n",
       "      <th></th>\n",
       "      <th>NOAA Solar Calculations - Change any of the highlighted cells to get solar position data for that location and date.</th>\n",
       "      <th>Unnamed: 1</th>\n",
       "      <th>Unnamed: 2</th>\n",
       "      <th>Date</th>\n",
       "      <th>Time</th>\n",
       "      <th>Julian Day</th>\n",
       "      <th>Julian Century</th>\n",
       "      <th>Unnamed: 7</th>\n",
       "      <th>Geom Mean Long Sun (deg)</th>\n",
       "      <th>Geom Mean Anom Sun (deg)</th>\n",
       "      <th>...</th>\n",
       "      <th>Sunlight Duration (minutes)</th>\n",
       "      <th>True Solar Time (min)</th>\n",
       "      <th>Hour Angle (deg)</th>\n",
       "      <th>Solar Zenith Angle (deg)</th>\n",
       "      <th>Solar Elevation Angle (deg)</th>\n",
       "      <th>Approx Atmospheric Refraction (deg)</th>\n",
       "      <th>Solar Elevation corrected for atm refraction (deg)</th>\n",
       "      <th>Solar Azimuth Angle (deg cw from N)</th>\n",
       "      <th>Hprime</th>\n",
       "      <th>Beta</th>\n",
       "    </tr>\n",
       "  </thead>\n",
       "  <tbody>\n",
       "    <tr>\n",
       "      <th>0</th>\n",
       "      <td>NaN</td>\n",
       "      <td>NaN</td>\n",
       "      <td>NaN</td>\n",
       "      <td>00:00:00</td>\n",
       "      <td>00:06:00</td>\n",
       "      <td>2.415018e+06</td>\n",
       "      <td>-1.000042</td>\n",
       "      <td>NaN</td>\n",
       "      <td>278.181500</td>\n",
       "      <td>-35643.036694</td>\n",
       "      <td>...</td>\n",
       "      <td>584.212999</td>\n",
       "      <td>1423.552269</td>\n",
       "      <td>175.888067</td>\n",
       "      <td>166.719372</td>\n",
       "      <td>-76.719372</td>\n",
       "      <td>0.001362</td>\n",
       "      <td>-76.718010</td>\n",
       "      <td>343.328280</td>\n",
       "      <td>84.851820</td>\n",
       "      <td>0.674049</td>\n",
       "    </tr>\n",
       "    <tr>\n",
       "      <th>1</th>\n",
       "      <td>Latitude (+ to N)</td>\n",
       "      <td>36</td>\n",
       "      <td>NaN</td>\n",
       "      <td>00:00:00</td>\n",
       "      <td>00:12:00</td>\n",
       "      <td>2.415018e+06</td>\n",
       "      <td>-1.000042</td>\n",
       "      <td>NaN</td>\n",
       "      <td>278.185607</td>\n",
       "      <td>-35643.032587</td>\n",
       "      <td>...</td>\n",
       "      <td>584.214840</td>\n",
       "      <td>1429.550252</td>\n",
       "      <td>177.387563</td>\n",
       "      <td>167.006822</td>\n",
       "      <td>-77.006822</td>\n",
       "      <td>0.001331</td>\n",
       "      <td>-77.005491</td>\n",
       "      <td>349.261607</td>\n",
       "      <td>84.861053</td>\n",
       "      <td>0.674238</td>\n",
       "    </tr>\n",
       "    <tr>\n",
       "      <th>2</th>\n",
       "      <td>Longitude (+ to E)</td>\n",
       "      <td>10</td>\n",
       "      <td>NaN</td>\n",
       "      <td>00:00:00</td>\n",
       "      <td>00:18:00</td>\n",
       "      <td>2.415018e+06</td>\n",
       "      <td>-1.000042</td>\n",
       "      <td>NaN</td>\n",
       "      <td>278.189714</td>\n",
       "      <td>-35643.028481</td>\n",
       "      <td>...</td>\n",
       "      <td>584.216682</td>\n",
       "      <td>1435.548234</td>\n",
       "      <td>178.887059</td>\n",
       "      <td>167.168746</td>\n",
       "      <td>-77.168746</td>\n",
       "      <td>0.001314</td>\n",
       "      <td>-77.167432</td>\n",
       "      <td>355.389300</td>\n",
       "      <td>84.866166</td>\n",
       "      <td>0.674343</td>\n",
       "    </tr>\n",
       "    <tr>\n",
       "      <th>3</th>\n",
       "      <td>Time Zone (+ to E)</td>\n",
       "      <td>1</td>\n",
       "      <td>NaN</td>\n",
       "      <td>00:00:00</td>\n",
       "      <td>00:24:00</td>\n",
       "      <td>2.415018e+06</td>\n",
       "      <td>-1.000042</td>\n",
       "      <td>NaN</td>\n",
       "      <td>278.193821</td>\n",
       "      <td>-35643.024374</td>\n",
       "      <td>...</td>\n",
       "      <td>584.218525</td>\n",
       "      <td>1.546217</td>\n",
       "      <td>-179.613446</td>\n",
       "      <td>167.200350</td>\n",
       "      <td>-77.200350</td>\n",
       "      <td>0.001311</td>\n",
       "      <td>-77.199040</td>\n",
       "      <td>1.603877</td>\n",
       "      <td>84.867157</td>\n",
       "      <td>0.674363</td>\n",
       "    </tr>\n",
       "    <tr>\n",
       "      <th>4</th>\n",
       "      <td>NaN</td>\n",
       "      <td>NaN</td>\n",
       "      <td>NaN</td>\n",
       "      <td>00:00:00</td>\n",
       "      <td>00:30:00</td>\n",
       "      <td>2.415018e+06</td>\n",
       "      <td>-1.000042</td>\n",
       "      <td>NaN</td>\n",
       "      <td>278.197928</td>\n",
       "      <td>-35643.020267</td>\n",
       "      <td>...</td>\n",
       "      <td>584.220369</td>\n",
       "      <td>7.544200</td>\n",
       "      <td>-178.113950</td>\n",
       "      <td>167.100671</td>\n",
       "      <td>-77.100671</td>\n",
       "      <td>0.001321</td>\n",
       "      <td>-77.099349</td>\n",
       "      <td>7.787683</td>\n",
       "      <td>84.864024</td>\n",
       "      <td>0.674299</td>\n",
       "    </tr>\n",
       "  </tbody>\n",
       "</table>\n",
       "<p>5 rows × 36 columns</p>\n",
       "</div>"
      ],
      "text/plain": [
       "  NOAA Solar Calculations - Change any of the highlighted cells to get solar position data for that location and date.  \\\n",
       "0                                                NaN                                                                     \n",
       "1                                  Latitude (+ to N)                                                                     \n",
       "2                                 Longitude (+ to E)                                                                     \n",
       "3                                 Time Zone (+ to E)                                                                     \n",
       "4                                                NaN                                                                     \n",
       "\n",
       "  Unnamed: 1  Unnamed: 2      Date      Time    Julian Day  Julian Century  \\\n",
       "0        NaN         NaN  00:00:00  00:06:00  2.415018e+06       -1.000042   \n",
       "1         36         NaN  00:00:00  00:12:00  2.415018e+06       -1.000042   \n",
       "2         10         NaN  00:00:00  00:18:00  2.415018e+06       -1.000042   \n",
       "3          1         NaN  00:00:00  00:24:00  2.415018e+06       -1.000042   \n",
       "4        NaN         NaN  00:00:00  00:30:00  2.415018e+06       -1.000042   \n",
       "\n",
       "   Unnamed: 7  Geom Mean Long Sun (deg)  Geom Mean Anom Sun (deg)    ...     \\\n",
       "0         NaN                278.181500             -35643.036694    ...      \n",
       "1         NaN                278.185607             -35643.032587    ...      \n",
       "2         NaN                278.189714             -35643.028481    ...      \n",
       "3         NaN                278.193821             -35643.024374    ...      \n",
       "4         NaN                278.197928             -35643.020267    ...      \n",
       "\n",
       "   Sunlight Duration (minutes)  True Solar Time (min)  Hour Angle (deg)  \\\n",
       "0                   584.212999            1423.552269        175.888067   \n",
       "1                   584.214840            1429.550252        177.387563   \n",
       "2                   584.216682            1435.548234        178.887059   \n",
       "3                   584.218525               1.546217       -179.613446   \n",
       "4                   584.220369               7.544200       -178.113950   \n",
       "\n",
       "   Solar Zenith Angle (deg)  Solar Elevation Angle (deg)  \\\n",
       "0                166.719372                   -76.719372   \n",
       "1                167.006822                   -77.006822   \n",
       "2                167.168746                   -77.168746   \n",
       "3                167.200350                   -77.200350   \n",
       "4                167.100671                   -77.100671   \n",
       "\n",
       "   Approx Atmospheric Refraction (deg)  \\\n",
       "0                             0.001362   \n",
       "1                             0.001331   \n",
       "2                             0.001314   \n",
       "3                             0.001311   \n",
       "4                             0.001321   \n",
       "\n",
       "   Solar Elevation corrected for atm refraction (deg)  \\\n",
       "0                                         -76.718010    \n",
       "1                                         -77.005491    \n",
       "2                                         -77.167432    \n",
       "3                                         -77.199040    \n",
       "4                                         -77.099349    \n",
       "\n",
       "   Solar Azimuth Angle (deg cw from N)     Hprime      Beta  \n",
       "0                           343.328280  84.851820  0.674049  \n",
       "1                           349.261607  84.861053  0.674238  \n",
       "2                           355.389300  84.866166  0.674343  \n",
       "3                             1.603877  84.867157  0.674363  \n",
       "4                             7.787683  84.864024  0.674299  \n",
       "\n",
       "[5 rows x 36 columns]"
      ]
     },
     "execution_count": 5,
     "metadata": {},
     "output_type": "execute_result"
    }
   ],
   "source": [
    "course_data.head()"
   ]
  },
  {
   "cell_type": "code",
   "execution_count": 6,
   "metadata": {
    "collapsed": false
   },
   "outputs": [
    {
     "data": {
      "text/plain": [
       "array([ 'NOAA Solar Calculations - Change any of the highlighted cells to get solar position data for that location and date.',\n",
       "       'Unnamed: 1', 'Unnamed: 2', 'Date', 'Time', 'Julian Day',\n",
       "       'Julian Century', 'Unnamed: 7', 'Geom Mean Long Sun (deg)',\n",
       "       'Geom Mean Anom Sun (deg)', 'Eccent Earth Orbit', 'Sun Eq of Ctr',\n",
       "       'Sun True Long (deg)', 'Sun True Anom (deg)',\n",
       "       'Sun Rad Vector (AUs)', 'Sun App Long (deg)',\n",
       "       'Mean Obliq Ecliptic (deg)', 'Obliq Corr (deg)',\n",
       "       'Sun Rt Ascen (deg)', 'Sun Declin (deg)', 'var y',\n",
       "       'Eq of Time (minutes)', 'HA Sunrise (deg)', 'Solar Noon (LST)',\n",
       "       'Sunrise Time (LST)', 'Sunset Time (LST)',\n",
       "       'Sunlight Duration (minutes)', 'True Solar Time (min)',\n",
       "       'Hour Angle (deg)', 'Solar Zenith Angle (deg)',\n",
       "       'Solar Elevation Angle (deg)',\n",
       "       'Approx Atmospheric Refraction (deg)',\n",
       "       'Solar Elevation corrected for atm refraction (deg)',\n",
       "       'Solar Azimuth Angle (deg cw from N)', 'Hprime', 'Beta'], dtype=object)"
      ]
     },
     "execution_count": 6,
     "metadata": {},
     "output_type": "execute_result"
    }
   ],
   "source": [
    "column_names = course_data.columns.values\n",
    "column_names"
   ]
  },
  {
   "cell_type": "code",
   "execution_count": 7,
   "metadata": {
    "collapsed": false
   },
   "outputs": [
    {
     "data": {
      "text/plain": [
       "<matplotlib.text.Text at 0x7f249e2f2b00>"
      ]
     },
     "execution_count": 7,
     "metadata": {},
     "output_type": "execute_result"
    },
    {
     "data": {
      "image/png": "[encoded data removed]",
      "text/plain": [
       "<matplotlib.figure.Figure at 0x7f249e3359e8>"
      ]
     },
     "metadata": {},
     "output_type": "display_data"
    }
   ],
   "source": [
    "import matplotlib.pyplot as plt\n",
    "plt.plot(course_data['Solar Elevation Angle (deg)'],course_data['Solar Azimuth Angle (deg cw from N)'])\n",
    "plt.title('Solar Azimuth vs. Elevation Angle')"
   ]
  },
  {
   "cell_type": "code",
   "execution_count": 8,
   "metadata": {
    "collapsed": false
   },
   "outputs": [
    {
     "name": "stdout",
     "output_type": "stream",
     "text": [
      "00:12:00\n",
      "240\n",
      "<class 'datetime.time'>\n"
     ]
    }
   ],
   "source": [
    "print (course_data['Time'][1])\n",
    "print (len(course_data['Time']))\n",
    "print (type(course_data['Time'][1]))"
   ]
  },
  {
   "cell_type": "code",
   "execution_count": 9,
   "metadata": {
    "collapsed": false
   },
   "outputs": [
    {
     "name": "stdout",
     "output_type": "stream",
     "text": [
      "240\n"
     ]
    }
   ],
   "source": [
    "Time=[]\n",
    "for time in range(len(course_data['Time'])):\n",
    "    Times=str(course_data['Time'][time])\n",
    "    Time.append(Times)\n",
    "print(len(Time))\n",
    "Time=np.array(Time)\n",
    "#print(Time)"
   ]
  },
  {
   "cell_type": "code",
   "execution_count": 10,
   "metadata": {
    "collapsed": false
   },
   "outputs": [
    {
     "data": {
      "text/plain": [
       "[<matplotlib.lines.Line2D at 0x7f249e289470>]"
      ]
     },
     "execution_count": 10,
     "metadata": {},
     "output_type": "execute_result"
    },
    {
     "data": {
      "image/png": "[encoded data removed]",
      "text/plain": [
       "<matplotlib.figure.Figure at 0x7f249e3d3fd0>"
      ]
     },
     "metadata": {},
     "output_type": "display_data"
    }
   ],
   "source": [
    "plt.plot(course_data['Julian Day'],course_data['Solar Elevation Angle (deg)'])"
   ]
  },
  {
   "cell_type": "code",
   "execution_count": 11,
   "metadata": {
    "collapsed": false
   },
   "outputs": [
    {
     "name": "stdout",
     "output_type": "stream",
     "text": [
      "240\n"
     ]
    }
   ],
   "source": [
    "elevation=[]\n",
    "for e in range(len(course_data['Solar Elevation Angle (deg)'])):\n",
    "    elevations=course_data['Solar Elevation Angle (deg)'][e]\n",
    "    elevation.append(elevations)\n",
    "print(len(elevation))\n",
    "Time=np.array(Time)\n",
    "#print(elevation)"
   ]
  },
  {
   "cell_type": "code",
   "execution_count": 12,
   "metadata": {
    "collapsed": false
   },
   "outputs": [],
   "source": [
    "from pandas import Series\n",
    "ts = Series(elevation, index=Time)"
   ]
  },
  {
   "cell_type": "code",
   "execution_count": 13,
   "metadata": {
    "collapsed": false
   },
   "outputs": [
    {
     "data": {
      "text/plain": [
       "00:06:00              -76.719372\n",
       "00:12:00              -77.006822\n",
       "00:18:00              -77.168746\n",
       "00:24:00              -77.200350\n",
       "00:30:00              -77.100671\n",
       "00:36:00              -76.872713\n",
       "00:42:00              -76.523022\n",
       "00:48:00              -76.060811\n",
       "00:54:00              -75.496909\n",
       "01:00:00              -74.842750\n",
       "01:06:00              -74.109580\n",
       "01:12:00              -73.307925\n",
       "01:18:00              -72.447292\n",
       "01:24:00              -71.536063\n",
       "01:30:00              -70.581508\n",
       "01:36:00              -69.589858\n",
       "01:42:00              -68.566422\n",
       "01:48:00              -67.515708\n",
       "01:54:00              -66.441541\n",
       "02:00:00              -65.347164\n",
       "02:06:00              -64.235337\n",
       "02:12:00              -63.108416\n",
       "02:18:00              -61.968413\n",
       "02:24:00              -60.817062\n",
       "02:30:00              -59.655856\n",
       "02:36:00              -58.486094\n",
       "02:42:00              -57.308904\n",
       "02:48:00              -56.125277\n",
       "02:54:00              -54.936086\n",
       "03:00:00              -53.742101\n",
       "                         ...    \n",
       "21:06:00              -45.804282\n",
       "21:12:00              -47.015174\n",
       "21:18:00              -48.224692\n",
       "21:24:00              -49.432437\n",
       "21:30:00              -50.637972\n",
       "21:36:00              -51.840823\n",
       "21:42:00              -53.040463\n",
       "21:48:00              -54.236309\n",
       "21:54:00              -55.427714\n",
       "22:00:00              -56.613950\n",
       "22:06:00              -57.794198\n",
       "22:12:00              -58.967532\n",
       "22:18:00              -60.132898\n",
       "22:24:00              -61.289089\n",
       "22:30:00              -62.434718\n",
       "22:36:00              -63.568184\n",
       "22:42:00              -64.687630\n",
       "22:48:00              -65.790889\n",
       "22:54:00              -66.875432\n",
       "23:00:00              -67.938287\n",
       "23:06:00              -68.975961\n",
       "23:12:00              -69.984336\n",
       "23:18:00              -70.958567\n",
       "23:24:00              -71.892957\n",
       "23:30:00              -72.780840\n",
       "23:36:00              -73.614490\n",
       "23:42:00              -74.385062\n",
       "23:48:00              -75.082635\n",
       "23:54:00              -75.696395\n",
       "1900-01-01 00:00:00   -76.215032\n",
       "dtype: float64"
      ]
     },
     "execution_count": 13,
     "metadata": {},
     "output_type": "execute_result"
    }
   ],
   "source": [
    "ts"
   ]
  },
  {
   "cell_type": "code",
   "execution_count": 14,
   "metadata": {
    "collapsed": false
   },
   "outputs": [
    {
     "data": {
      "text/plain": [
       "<matplotlib.axes._subplots.AxesSubplot at 0x7f24b52de908>"
      ]
     },
     "execution_count": 14,
     "metadata": {},
     "output_type": "execute_result"
    },
    {
     "data": {
      "image/png": "[encoded data removed]",
      "text/plain": [
       "<matplotlib.figure.Figure at 0x7f249e2db4a8>"
      ]
     },
     "metadata": {},
     "output_type": "display_data"
    }
   ],
   "source": [
    "ts.plot(title='elevation')"
   ]
  },
  {
   "cell_type": "code",
   "execution_count": 15,
   "metadata": {
    "collapsed": false
   },
   "outputs": [
    {
     "data": {
      "text/html": [
       "<div>\n",
       "<table border=\"1\" class=\"dataframe\">\n",
       "  <thead>\n",
       "    <tr style=\"text-align: right;\">\n",
       "      <th></th>\n",
       "      <th>NOAA Solar Calculations - Change any of the highlighted cells to get solar position data for that location and date.</th>\n",
       "      <th>Unnamed: 1</th>\n",
       "      <th>Unnamed: 2</th>\n",
       "      <th>Date</th>\n",
       "      <th>Julian Day</th>\n",
       "      <th>Julian Century</th>\n",
       "      <th>Unnamed: 7</th>\n",
       "      <th>Geom Mean Long Sun (deg)</th>\n",
       "      <th>Geom Mean Anom Sun (deg)</th>\n",
       "      <th>Eccent Earth Orbit</th>\n",
       "      <th>...</th>\n",
       "      <th>Sunlight Duration (minutes)</th>\n",
       "      <th>True Solar Time (min)</th>\n",
       "      <th>Hour Angle (deg)</th>\n",
       "      <th>Solar Zenith Angle (deg)</th>\n",
       "      <th>Solar Elevation Angle (deg)</th>\n",
       "      <th>Approx Atmospheric Refraction (deg)</th>\n",
       "      <th>Solar Elevation corrected for atm refraction (deg)</th>\n",
       "      <th>Solar Azimuth Angle (deg cw from N)</th>\n",
       "      <th>Hprime</th>\n",
       "      <th>Beta</th>\n",
       "    </tr>\n",
       "    <tr>\n",
       "      <th>Time</th>\n",
       "      <th></th>\n",
       "      <th></th>\n",
       "      <th></th>\n",
       "      <th></th>\n",
       "      <th></th>\n",
       "      <th></th>\n",
       "      <th></th>\n",
       "      <th></th>\n",
       "      <th></th>\n",
       "      <th></th>\n",
       "      <th></th>\n",
       "      <th></th>\n",
       "      <th></th>\n",
       "      <th></th>\n",
       "      <th></th>\n",
       "      <th></th>\n",
       "      <th></th>\n",
       "      <th></th>\n",
       "      <th></th>\n",
       "      <th></th>\n",
       "      <th></th>\n",
       "    </tr>\n",
       "  </thead>\n",
       "  <tbody>\n",
       "    <tr>\n",
       "      <th>00:06:00</th>\n",
       "      <td>NaN</td>\n",
       "      <td>NaN</td>\n",
       "      <td>NaN</td>\n",
       "      <td>00:00:00</td>\n",
       "      <td>2.415018e+06</td>\n",
       "      <td>-1.000042</td>\n",
       "      <td>NaN</td>\n",
       "      <td>278.181500</td>\n",
       "      <td>-35643.036694</td>\n",
       "      <td>0.016751</td>\n",
       "      <td>...</td>\n",
       "      <td>584.212999</td>\n",
       "      <td>1423.552269</td>\n",
       "      <td>175.888067</td>\n",
       "      <td>166.719372</td>\n",
       "      <td>-76.719372</td>\n",
       "      <td>0.001362</td>\n",
       "      <td>-76.718010</td>\n",
       "      <td>343.328280</td>\n",
       "      <td>84.851820</td>\n",
       "      <td>0.674049</td>\n",
       "    </tr>\n",
       "    <tr>\n",
       "      <th>00:12:00</th>\n",
       "      <td>Latitude (+ to N)</td>\n",
       "      <td>36</td>\n",
       "      <td>NaN</td>\n",
       "      <td>00:00:00</td>\n",
       "      <td>2.415018e+06</td>\n",
       "      <td>-1.000042</td>\n",
       "      <td>NaN</td>\n",
       "      <td>278.185607</td>\n",
       "      <td>-35643.032587</td>\n",
       "      <td>0.016751</td>\n",
       "      <td>...</td>\n",
       "      <td>584.214840</td>\n",
       "      <td>1429.550252</td>\n",
       "      <td>177.387563</td>\n",
       "      <td>167.006822</td>\n",
       "      <td>-77.006822</td>\n",
       "      <td>0.001331</td>\n",
       "      <td>-77.005491</td>\n",
       "      <td>349.261607</td>\n",
       "      <td>84.861053</td>\n",
       "      <td>0.674238</td>\n",
       "    </tr>\n",
       "    <tr>\n",
       "      <th>00:18:00</th>\n",
       "      <td>Longitude (+ to E)</td>\n",
       "      <td>10</td>\n",
       "      <td>NaN</td>\n",
       "      <td>00:00:00</td>\n",
       "      <td>2.415018e+06</td>\n",
       "      <td>-1.000042</td>\n",
       "      <td>NaN</td>\n",
       "      <td>278.189714</td>\n",
       "      <td>-35643.028481</td>\n",
       "      <td>0.016751</td>\n",
       "      <td>...</td>\n",
       "      <td>584.216682</td>\n",
       "      <td>1435.548234</td>\n",
       "      <td>178.887059</td>\n",
       "      <td>167.168746</td>\n",
       "      <td>-77.168746</td>\n",
       "      <td>0.001314</td>\n",
       "      <td>-77.167432</td>\n",
       "      <td>355.389300</td>\n",
       "      <td>84.866166</td>\n",
       "      <td>0.674343</td>\n",
       "    </tr>\n",
       "    <tr>\n",
       "      <th>00:24:00</th>\n",
       "      <td>Time Zone (+ to E)</td>\n",
       "      <td>1</td>\n",
       "      <td>NaN</td>\n",
       "      <td>00:00:00</td>\n",
       "      <td>2.415018e+06</td>\n",
       "      <td>-1.000042</td>\n",
       "      <td>NaN</td>\n",
       "      <td>278.193821</td>\n",
       "      <td>-35643.024374</td>\n",
       "      <td>0.016751</td>\n",
       "      <td>...</td>\n",
       "      <td>584.218525</td>\n",
       "      <td>1.546217</td>\n",
       "      <td>-179.613446</td>\n",
       "      <td>167.200350</td>\n",
       "      <td>-77.200350</td>\n",
       "      <td>0.001311</td>\n",
       "      <td>-77.199040</td>\n",
       "      <td>1.603877</td>\n",
       "      <td>84.867157</td>\n",
       "      <td>0.674363</td>\n",
       "    </tr>\n",
       "    <tr>\n",
       "      <th>00:30:00</th>\n",
       "      <td>NaN</td>\n",
       "      <td>NaN</td>\n",
       "      <td>NaN</td>\n",
       "      <td>00:00:00</td>\n",
       "      <td>2.415018e+06</td>\n",
       "      <td>-1.000042</td>\n",
       "      <td>NaN</td>\n",
       "      <td>278.197928</td>\n",
       "      <td>-35643.020267</td>\n",
       "      <td>0.016751</td>\n",
       "      <td>...</td>\n",
       "      <td>584.220369</td>\n",
       "      <td>7.544200</td>\n",
       "      <td>-178.113950</td>\n",
       "      <td>167.100671</td>\n",
       "      <td>-77.100671</td>\n",
       "      <td>0.001321</td>\n",
       "      <td>-77.099349</td>\n",
       "      <td>7.787683</td>\n",
       "      <td>84.864024</td>\n",
       "      <td>0.674299</td>\n",
       "    </tr>\n",
       "  </tbody>\n",
       "</table>\n",
       "<p>5 rows × 35 columns</p>\n",
       "</div>"
      ],
      "text/plain": [
       "         NOAA Solar Calculations - Change any of the highlighted cells to get solar position data for that location and date.  \\\n",
       "Time                                                                                                                            \n",
       "00:06:00                                                NaN                                                                     \n",
       "00:12:00                                  Latitude (+ to N)                                                                     \n",
       "00:18:00                                 Longitude (+ to E)                                                                     \n",
       "00:24:00                                 Time Zone (+ to E)                                                                     \n",
       "00:30:00                                                NaN                                                                     \n",
       "\n",
       "         Unnamed: 1  Unnamed: 2      Date    Julian Day  Julian Century  \\\n",
       "Time                                                                      \n",
       "00:06:00        NaN         NaN  00:00:00  2.415018e+06       -1.000042   \n",
       "00:12:00         36         NaN  00:00:00  2.415018e+06       -1.000042   \n",
       "00:18:00         10         NaN  00:00:00  2.415018e+06       -1.000042   \n",
       "00:24:00          1         NaN  00:00:00  2.415018e+06       -1.000042   \n",
       "00:30:00        NaN         NaN  00:00:00  2.415018e+06       -1.000042   \n",
       "\n",
       "          Unnamed: 7  Geom Mean Long Sun (deg)  Geom Mean Anom Sun (deg)  \\\n",
       "Time                                                                       \n",
       "00:06:00         NaN                278.181500             -35643.036694   \n",
       "00:12:00         NaN                278.185607             -35643.032587   \n",
       "00:18:00         NaN                278.189714             -35643.028481   \n",
       "00:24:00         NaN                278.193821             -35643.024374   \n",
       "00:30:00         NaN                278.197928             -35643.020267   \n",
       "\n",
       "          Eccent Earth Orbit    ...     Sunlight Duration (minutes)  \\\n",
       "Time                            ...                                   \n",
       "00:06:00            0.016751    ...                      584.212999   \n",
       "00:12:00            0.016751    ...                      584.214840   \n",
       "00:18:00            0.016751    ...                      584.216682   \n",
       "00:24:00            0.016751    ...                      584.218525   \n",
       "00:30:00            0.016751    ...                      584.220369   \n",
       "\n",
       "          True Solar Time (min)  Hour Angle (deg)  Solar Zenith Angle (deg)  \\\n",
       "Time                                                                          \n",
       "00:06:00            1423.552269        175.888067                166.719372   \n",
       "00:12:00            1429.550252        177.387563                167.006822   \n",
       "00:18:00            1435.548234        178.887059                167.168746   \n",
       "00:24:00               1.546217       -179.613446                167.200350   \n",
       "00:30:00               7.544200       -178.113950                167.100671   \n",
       "\n",
       "          Solar Elevation Angle (deg)  Approx Atmospheric Refraction (deg)  \\\n",
       "Time                                                                         \n",
       "00:06:00                   -76.719372                             0.001362   \n",
       "00:12:00                   -77.006822                             0.001331   \n",
       "00:18:00                   -77.168746                             0.001314   \n",
       "00:24:00                   -77.200350                             0.001311   \n",
       "00:30:00                   -77.100671                             0.001321   \n",
       "\n",
       "          Solar Elevation corrected for atm refraction (deg)  \\\n",
       "Time                                                           \n",
       "00:06:00                                         -76.718010    \n",
       "00:12:00                                         -77.005491    \n",
       "00:18:00                                         -77.167432    \n",
       "00:24:00                                         -77.199040    \n",
       "00:30:00                                         -77.099349    \n",
       "\n",
       "          Solar Azimuth Angle (deg cw from N)     Hprime      Beta  \n",
       "Time                                                                \n",
       "00:06:00                           343.328280  84.851820  0.674049  \n",
       "00:12:00                           349.261607  84.861053  0.674238  \n",
       "00:18:00                           355.389300  84.866166  0.674343  \n",
       "00:24:00                             1.603877  84.867157  0.674363  \n",
       "00:30:00                             7.787683  84.864024  0.674299  \n",
       "\n",
       "[5 rows x 35 columns]"
      ]
     },
     "execution_count": 15,
     "metadata": {},
     "output_type": "execute_result"
    }
   ],
   "source": [
    "course_data2 = pd.read_excel(\"NOAA_Solar_Calculations_day.xls\", sheetname='Calculations',\n",
    "                             infer_datetime_format=True, index_col=4)\n",
    "course_data2.head()"
   ]
  },
  {
   "cell_type": "code",
   "execution_count": 16,
   "metadata": {
    "collapsed": false
   },
   "outputs": [
    {
     "data": {
      "image/png": "[encoded data removed]",
      "text/plain": [
       "<matplotlib.figure.Figure at 0x7f24920b9e48>"
      ]
     },
     "metadata": {},
     "output_type": "display_data"
    }
   ],
   "source": [
    "course_data2['Solar Elevation Angle (deg)'].plot(style='r--',linewidth=3, title='Solar Elevation Angle (deg)', alpha=0.6)\n",
    "plt.grid()"
   ]
  },
  {
   "cell_type": "code",
   "execution_count": 17,
   "metadata": {
    "collapsed": false
   },
   "outputs": [
    {
     "data": {
      "image/png": "[encoded data removed]",
      "text/plain": [
       "<matplotlib.figure.Figure at 0x7f2491fce978>"
      ]
     },
     "metadata": {},
     "output_type": "display_data"
    }
   ],
   "source": [
    "course_data2['Hprime'].plot(style='r--',linewidth=3, title='Hprime', alpha=0.6)\n",
    "plt.grid()"
   ]
  },
  {
   "cell_type": "code",
   "execution_count": 18,
   "metadata": {
    "collapsed": false
   },
   "outputs": [
    {
     "data": {
      "image/png": "[encoded data removed]",
      "text/plain": [
       "<matplotlib.figure.Figure at 0x7f249e2cda20>"
      ]
     },
     "metadata": {},
     "output_type": "display_data"
    }
   ],
   "source": [
    "course_data2['Beta'].plot(style='b--',linewidth=3, title='Beta', alpha=0.6)\n",
    "plt.grid()"
   ]
  },
  {
   "cell_type": "code",
   "execution_count": 19,
   "metadata": {
    "collapsed": false
   },
   "outputs": [
    {
     "data": {
      "image/png": "[encoded data removed]",
      "text/plain": [
       "<matplotlib.figure.Figure at 0x7f2491f48a90>"
      ]
     },
     "metadata": {},
     "output_type": "display_data"
    }
   ],
   "source": [
    "course_data2['Approx Atmospheric Refraction (deg)'].plot(style='g--',linewidth=3, title='Approx Atmospheric Refraction (deg)', alpha=0.6)\n",
    "plt.grid()"
   ]
  },
  {
   "cell_type": "code",
   "execution_count": null,
   "metadata": {
    "collapsed": true
   },
   "outputs": [],
   "source": []
  }
 ],
 "metadata": {
  "kernelspec": {
   "display_name": "Python 3",
   "language": "python",
   "name": "python3"
  },
  "language_info": {
   "codemirror_mode": {
    "name": "ipython",
    "version": 3
   },
   "file_extension": ".py",
   "mimetype": "text/x-python",
   "name": "python",
   "nbconvert_exporter": "python",
   "pygments_lexer": "ipython3",
   "version": "3.5.1+"
  },
  "widgets": {
   "state": {},
   "version": "1.1.1"
  }
 },
 "nbformat": 4,
 "nbformat_minor": 0
}
